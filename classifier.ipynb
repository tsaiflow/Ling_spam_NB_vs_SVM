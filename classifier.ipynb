{
 "cells": [
  {
   "cell_type": "code",
   "execution_count": 1,
   "metadata": {
    "collapsed": true
   },
   "outputs": [],
   "source": [
    "import numpy as np\n",
    "import sklearn\n",
    "import sklearn.datasets as skd\n",
    "from sklearn.feature_extraction.text import CountVectorizer, TfidfTransformer\n",
    "from sklearn import linear_model\n",
    "from sklearn import naive_bayes\n",
    "from sklearn.feature_selection import mutual_info_classif\n",
    "from sklearn.metrics import mutual_info_score\n",
    "from sklearn.metrics import precision_score, recall_score\n",
    "from sklearn.svm import SVC\n",
    "from sklearn import svm\n",
    "from sklearn.model_selection import train_test_split"
   ]
  },
  {
   "cell_type": "code",
   "execution_count": 2,
   "metadata": {
    "collapsed": true
   },
   "outputs": [],
   "source": [
    "#Each sub-directory in the parent directory is assumed to contain documents from the same class\n",
    "#I pre-processed the part1 (fold1) and part2 (fold2) of the lingspam dataset to place spam emails in one folder \n",
    "#and legit emails in another; you should do the same for the entire dataset, either manually or via a script. \n",
    "\n",
    "ls_train = skd.load_files(container_path='./lingspam_public/lemm_stop/train')\n",
    "ls_test = skd.load_files(container_path='./lingspam_public/lemm_stop/part10')"
   ]
  },
  {
   "cell_type": "code",
   "execution_count": 3,
   "metadata": {
    "collapsed": true
   },
   "outputs": [],
   "source": [
    "# #The count vectorizer classes fit_transform function generates a vocoabulary that contains each unique term in the dataset\n",
    "# #and outputs a sparse matrix tabulating term occurences\n",
    "count_vect = CountVectorizer()\n",
    "x_train = count_vect.fit_transform(ls_train.data)\n",
    "\n",
    "#Since the vocabulary has already been learned, use the transform function to transform the test data using the same vocab\n",
    "x_test = count_vect.transform(ls_test.data)"
   ]
  },
  {
   "cell_type": "code",
   "execution_count": 4,
   "metadata": {
    "collapsed": true
   },
   "outputs": [],
   "source": [
    "## TF Mulitnomial Bern\n",
    "######################\n",
    "\n",
    "tf_transformer = TfidfTransformer(use_idf = False)\n",
    "x_train_tf = tf_transformer.fit_transform(x_train)\n",
    "x_test_tf = tf_transformer.fit_transform(x_test)"
   ]
  },
  {
   "cell_type": "code",
   "execution_count": null,
   "metadata": {
    "collapsed": true
   },
   "outputs": [],
   "source": []
  },
  {
   "cell_type": "code",
   "execution_count": null,
   "metadata": {},
   "outputs": [],
   "source": []
  },
  {
   "cell_type": "code",
   "execution_count": 5,
   "metadata": {
    "collapsed": true
   },
   "outputs": [],
   "source": [
    "## Information Gain\n",
    "\n",
    "ig_train_tf = mutual_info_classif(x_train_tf, ls_train.target, discrete_features='auto', n_neighbors=3, copy=True, random_state=None)\n"
   ]
  },
  {
   "cell_type": "code",
   "execution_count": 6,
   "metadata": {
    "collapsed": true
   },
   "outputs": [],
   "source": [
    "top_train_10 = np.argsort(-ig_train_tf)[:10]\n",
    "top_train_100 = np.argsort(-ig_train_tf)[:100]\n",
    "top_train_1000 = np.argsort(-ig_train_tf)[:1000]\n",
    "\n",
    "# print(np.sort(top_train_10))\n",
    "\n",
    "feature_names_arg_1 = top_train_10\n",
    "# print(np.sort(top_test_10))"
   ]
  },
  {
   "cell_type": "code",
   "execution_count": null,
   "metadata": {
    "collapsed": true
   },
   "outputs": [],
   "source": []
  },
  {
   "cell_type": "code",
   "execution_count": 7,
   "metadata": {
    "collapsed": true
   },
   "outputs": [],
   "source": [
    "from scipy.sparse import hstack\n",
    "from scipy.sparse import csr_matrix\n",
    "\n",
    "new_x_t_10   = x_train_tf[:,top_train_10[0]]\n",
    "new_x_t_100  = x_train_tf[:,top_train_100[0]]\n",
    "new_x_t_1000 = x_train_tf[:,top_train_1000[0]]\n",
    "\n",
    "# test dataset preprocess\n",
    "new_x_te_10   = x_test_tf[:,top_train_10[0]]\n",
    "new_x_te_100  = x_test_tf[:,top_train_100[0]]\n",
    "new_x_te_1000 = x_test_tf[:,top_train_1000[0]]"
   ]
  },
  {
   "cell_type": "code",
   "execution_count": 8,
   "metadata": {
    "collapsed": true
   },
   "outputs": [],
   "source": [
    "# 10 features case\n",
    "\n",
    "for i in range(1,10):\n",
    "    new_x_t_10 = hstack((new_x_t_10, x_train_tf[:,top_train_10[i]]))\n",
    "    new_x_te_10 = hstack((new_x_te_10, x_test_tf[:,top_train_10[i]]))\n",
    "#     print(np.shape(new_x_te_10))\n",
    "\n",
    "new_x_train_10 = csr_matrix(new_x_t_10)\n",
    "new_x_test_10 = csr_matrix(new_x_te_10)"
   ]
  },
  {
   "cell_type": "code",
   "execution_count": 9,
   "metadata": {
    "collapsed": true
   },
   "outputs": [],
   "source": [
    "mNomTF = sklearn.naive_bayes.MultinomialNB();\n",
    "mNomTF.fit(new_x_train_10,ls_train.target);"
   ]
  },
  {
   "cell_type": "code",
   "execution_count": 10,
   "metadata": {},
   "outputs": [
    {
     "name": "stdout",
     "output_type": "stream",
     "text": [
      "MultiNomial NB Term Frequency with 10 features:\n",
      "Acc: 0.831615120275\n",
      "Spam precision & recall: 0.0 0.0\n"
     ]
    },
    {
     "name": "stderr",
     "output_type": "stream",
     "text": [
      "/anaconda/lib/python3.6/site-packages/sklearn/metrics/classification.py:1113: UndefinedMetricWarning: Precision and F-score are ill-defined and being set to 0.0 in labels with no predicted samples.\n",
      "  'precision', 'predicted', average, warn_for)\n"
     ]
    }
   ],
   "source": [
    "#Test the accuracy of the trained classifier\n",
    "from sklearn.metrics import precision_recall_fscore_support\n",
    "from sklearn.metrics import confusion_matrix\n",
    "\n",
    "y_pred_mNomTF_10 = mNomTF.predict(new_x_test_10)\n",
    "\n",
    "acc_mNomTF_10 = mNomTF.score(new_x_test_10,ls_test.target)\n",
    "\n",
    "print(\"MultiNomial NB Term Frequency with 10 features:\")\n",
    "print(\"Acc: %s\" %acc_mNomTF_10)\n",
    "\n",
    "precision,recall,f1,_ = precision_recall_fscore_support(ls_test.target, y_pred_mNomTF_10)\n",
    "print(\"Spam precision & recall: %s\" %precision[1], recall[1])\n",
    "# precision_recall_fscore_support(ls_test.target, y_pred_mNomTF_10)"
   ]
  },
  {
   "cell_type": "code",
   "execution_count": 11,
   "metadata": {},
   "outputs": [],
   "source": [
    "# Cm = confusion_matrix(ls_test.target,y_pred_mNomTF_10)\n",
    "# C = np.sum(Cm)\n",
    "# Cm = Cm/C\n",
    "# print('Confusion Matrix:')\n",
    "# print(np.array_str(Cm, precision=4, suppress_small=True))\n",
    "# print(precision_recall_fscore_support(ls_test.target, y_pred_mNomTF_10))"
   ]
  },
  {
   "cell_type": "code",
   "execution_count": 12,
   "metadata": {
    "collapsed": true
   },
   "outputs": [],
   "source": [
    "# 100 features case\n",
    "\n",
    "for i in range(1,100):\n",
    "    new_x_t_100 = hstack((new_x_t_100, x_train_tf[:,top_train_100[i]]))\n",
    "    new_x_te_100 = hstack((new_x_te_100, x_test_tf[:,top_train_100[i]]))\n",
    "\n",
    "# print(np.shape(new_x_te_100))\n",
    "\n",
    "new_x_train_100 = csr_matrix(new_x_t_100)\n",
    "new_x_test_100 = csr_matrix(new_x_te_100)"
   ]
  },
  {
   "cell_type": "code",
   "execution_count": 13,
   "metadata": {},
   "outputs": [
    {
     "name": "stdout",
     "output_type": "stream",
     "text": [
      "MultiNomial NB Term Frequency with 100 features:\n",
      "Acc: 0.900343642612\n",
      "Spam precision & recall: 1.0 0.408163265306\n"
     ]
    }
   ],
   "source": [
    "mNomTF = sklearn.naive_bayes.MultinomialNB()\n",
    "mNomTF.fit(new_x_train_100,ls_train.target)\n",
    "\n",
    "#Test the accuracy of the trained classifier\n",
    "from sklearn.metrics import precision_recall_fscore_support\n",
    "from sklearn.metrics import confusion_matrix\n",
    "\n",
    "y_pred_mNomTF_100 = mNomTF.predict(new_x_test_100)\n",
    "\n",
    "acc_mNomTF_100 = mNomTF.score(new_x_test_100,ls_test.target)\n",
    "\n",
    "print(\"MultiNomial NB Term Frequency with 100 features:\")\n",
    "print(\"Acc: %s\" %acc_mNomTF_100)\n",
    "\n",
    "precision,recall,f1,_ = precision_recall_fscore_support(ls_test.target, y_pred_mNomTF_100)\n",
    "print(\"Spam precision & recall: %s\" %precision[1], recall[1])"
   ]
  },
  {
   "cell_type": "code",
   "execution_count": 14,
   "metadata": {
    "collapsed": true
   },
   "outputs": [],
   "source": [
    "# 1000 features case\n",
    "\n",
    "for i in range(1,1000):\n",
    "    new_x_t_1000 = hstack((new_x_t_1000, x_train_tf[:,top_train_1000[i]]))\n",
    "    new_x_te_1000 = hstack((new_x_te_1000, x_test_tf[:,top_train_1000[i]]))\n",
    "\n",
    "# print(np.shape(new_x_te_1000))\n",
    "\n",
    "new_x_train_1000 = csr_matrix(new_x_t_1000)\n",
    "new_x_test_1000 = csr_matrix(new_x_te_1000)"
   ]
  },
  {
   "cell_type": "code",
   "execution_count": 15,
   "metadata": {},
   "outputs": [
    {
     "name": "stdout",
     "output_type": "stream",
     "text": [
      "MultiNomial NB Term Frequency with 1000 features:\n",
      "Acc: 0.979381443299\n",
      "Spam precision & recall: 1.0 0.877551020408\n"
     ]
    }
   ],
   "source": [
    "mNomTF = sklearn.naive_bayes.MultinomialNB()\n",
    "mNomTF.fit(new_x_train_1000,ls_train.target)\n",
    "\n",
    "#Test the accuracy of the trained classifier\n",
    "from sklearn.metrics import precision_recall_fscore_support\n",
    "from sklearn.metrics import confusion_matrix\n",
    "\n",
    "y_pred_mNomTF_1000 = mNomTF.predict(new_x_test_1000)\n",
    "\n",
    "acc_mNomTF_1000 = mNomTF.score(new_x_test_1000,ls_test.target)\n",
    "\n",
    "print(\"MultiNomial NB Term Frequency with 1000 features:\")\n",
    "print(\"Acc: %s\" %acc_mNomTF_1000)\n",
    "\n",
    "precision,recall,f1,_ = precision_recall_fscore_support(ls_test.target, y_pred_mNomTF_1000)\n",
    "print(\"Spam precision & recall: %s\" %precision[1], recall[1])"
   ]
  },
  {
   "cell_type": "code",
   "execution_count": null,
   "metadata": {
    "collapsed": true
   },
   "outputs": [],
   "source": []
  },
  {
   "cell_type": "code",
   "execution_count": 16,
   "metadata": {
    "collapsed": true
   },
   "outputs": [],
   "source": [
    "## Multinomial Binary Naive Based\n",
    "#################################\n",
    "\n",
    "count_vect_binary = CountVectorizer(binary = True)\n",
    "x_train_binary = count_vect_binary.fit_transform(ls_train.data)\n",
    "\n",
    "#Since the vocabulary has already been learned, use the transform function to transform the test data using the same vocab\n",
    "x_test_binary = count_vect_binary.transform(ls_test.data)"
   ]
  },
  {
   "cell_type": "code",
   "execution_count": 17,
   "metadata": {
    "collapsed": true
   },
   "outputs": [],
   "source": [
    "## Information Gain\n",
    "ig_train_binary = mutual_info_classif(x_train_binary, ls_train.target, discrete_features='auto', n_neighbors=3, copy=True, random_state=None)"
   ]
  },
  {
   "cell_type": "code",
   "execution_count": 18,
   "metadata": {
    "collapsed": true
   },
   "outputs": [],
   "source": [
    "top_train_10 = np.argsort(-ig_train_binary)[:10]\n",
    "top_train_100 = np.argsort(-ig_train_binary)[:100]\n",
    "top_train_1000 = np.argsort(-ig_train_binary)[:1000]\n",
    "\n",
    "feature_names_arg_2 = top_train_10\n",
    "feature_names_arg_2_100 = top_train_100\n",
    "feature_names_arg_2_1000 = top_train_1000"
   ]
  },
  {
   "cell_type": "code",
   "execution_count": 19,
   "metadata": {
    "collapsed": true
   },
   "outputs": [],
   "source": [
    "from scipy.sparse import hstack\n",
    "from scipy.sparse import csr_matrix\n",
    "\n",
    "new_x_t_10   = x_train_binary[:,top_train_10[0]]\n",
    "new_x_t_100  = x_train_binary[:,top_train_100[0]]\n",
    "new_x_t_1000 = x_train_binary[:,top_train_1000[0]]\n",
    "\n",
    "# test dataset preprocess\n",
    "new_x_te_10   = x_test_binary[:,top_train_10[0]]\n",
    "new_x_te_100  = x_test_binary[:,top_train_100[0]]\n",
    "new_x_te_1000 = x_test_binary[:,top_train_1000[0]]"
   ]
  },
  {
   "cell_type": "code",
   "execution_count": 20,
   "metadata": {
    "collapsed": true
   },
   "outputs": [],
   "source": [
    "# 10 features case\n",
    "\n",
    "for i in range(1,10):\n",
    "    new_x_t_10 = hstack((new_x_t_10, x_train_binary[:,top_train_10[i]]))\n",
    "    new_x_te_10 = hstack((new_x_te_10, x_test_binary[:,top_train_10[i]]))\n",
    "#     print(np.shape(new_x_te_10))\n",
    "\n",
    "new_x_train_10 = csr_matrix(new_x_t_10)\n",
    "new_x_test_10 = csr_matrix(new_x_te_10)"
   ]
  },
  {
   "cell_type": "code",
   "execution_count": 21,
   "metadata": {},
   "outputs": [
    {
     "name": "stdout",
     "output_type": "stream",
     "text": [
      "MultiNomial NB with 10 features:\n",
      "Acc: 0.951890034364\n",
      "Spam precision & recall: 0.888888888889 0.816326530612\n"
     ]
    }
   ],
   "source": [
    "mNom = sklearn.naive_bayes.MultinomialNB();\n",
    "mNom.fit(new_x_train_10,ls_train.target);\n",
    "#Test the accuracy of the trained classifier\n",
    "from sklearn.metrics import precision_recall_fscore_support\n",
    "from sklearn.metrics import confusion_matrix\n",
    "\n",
    "y_pred_mNom_10 = mNom.predict(new_x_test_10)\n",
    "\n",
    "acc_mNom_10 = mNom.score(new_x_test_10,ls_test.target)\n",
    "\n",
    "print(\"MultiNomial NB with 10 features:\")\n",
    "print(\"Acc: %s\" %acc_mNom_10)\n",
    "\n",
    "precision,recall,f1,_ = precision_recall_fscore_support(ls_test.target, y_pred_mNom_10)\n",
    "print(\"Spam precision & recall: %s\" %precision[1], recall[1])"
   ]
  },
  {
   "cell_type": "code",
   "execution_count": 22,
   "metadata": {},
   "outputs": [
    {
     "name": "stdout",
     "output_type": "stream",
     "text": [
      "MultiNomial NB with 100 features:\n",
      "Acc: 0.982817869416\n",
      "Spam precision & recall: 0.978260869565 0.918367346939\n"
     ]
    }
   ],
   "source": [
    "# 100 features case\n",
    "\n",
    "for i in range(1,100):\n",
    "    new_x_t_100 = hstack((new_x_t_100, x_train_binary[:,top_train_100[i]]))\n",
    "    new_x_te_100 = hstack((new_x_te_100, x_test_binary[:,top_train_100[i]]))\n",
    "#     print(np.shape(new_x_te_10))\n",
    "\n",
    "new_x_train_100 = csr_matrix(new_x_t_100)\n",
    "new_x_test_100 = csr_matrix(new_x_te_100)\n",
    "\n",
    "mNom = sklearn.naive_bayes.MultinomialNB()\n",
    "mNom.fit(new_x_train_100,ls_train.target)\n",
    "\n",
    "#Test the accuracy of the trained classifier\n",
    "from sklearn.metrics import precision_recall_fscore_support\n",
    "from sklearn.metrics import confusion_matrix\n",
    "\n",
    "y_pred_mNom_100 = mNom.predict(new_x_test_100)\n",
    "\n",
    "acc_mNom_100 = mNom.score(new_x_test_100,ls_test.target)\n",
    "\n",
    "print(\"MultiNomial NB with 100 features:\")\n",
    "print(\"Acc: %s\" %acc_mNom_100)\n",
    "\n",
    "precision,recall,f1,_ = precision_recall_fscore_support(ls_test.target, y_pred_mNom_100)\n",
    "print(\"Spam precision & recall: %s\" %precision[1], recall[1])"
   ]
  },
  {
   "cell_type": "code",
   "execution_count": 23,
   "metadata": {},
   "outputs": [
    {
     "name": "stdout",
     "output_type": "stream",
     "text": [
      "MultiNomial NB with 1000 features:\n",
      "Acc: 0.989690721649\n",
      "Spam precision & recall: 1.0 0.938775510204\n"
     ]
    }
   ],
   "source": [
    "# 1000 features case\n",
    "\n",
    "for i in range(1,1000):\n",
    "    new_x_t_1000 = hstack((new_x_t_1000, x_train_binary[:,top_train_1000[i]]))\n",
    "    new_x_te_1000 = hstack((new_x_te_1000, x_test_binary[:,top_train_1000[i]]))\n",
    "#     print(np.shape(new_x_te_10))\n",
    "\n",
    "new_x_train_1000 = csr_matrix(new_x_t_1000)\n",
    "new_x_test_1000 = csr_matrix(new_x_te_1000)\n",
    "\n",
    "mNom = sklearn.naive_bayes.MultinomialNB()\n",
    "mNom.fit(new_x_train_1000,ls_train.target)\n",
    "clf3 = mNom\n",
    "#Test the accuracy of the trained classifier\n",
    "from sklearn.metrics import precision_recall_fscore_support\n",
    "from sklearn.metrics import confusion_matrix\n",
    "\n",
    "y_pred_mNom_1000 = mNom.predict(new_x_test_1000)\n",
    "\n",
    "acc_mNom_1000 = mNom.score(new_x_test_1000,ls_test.target)\n",
    "\n",
    "print(\"MultiNomial NB with 1000 features:\")\n",
    "print(\"Acc: %s\" %acc_mNom_1000)\n",
    "\n",
    "precision,recall,f1,_ = precision_recall_fscore_support(ls_test.target, y_pred_mNom_1000)\n",
    "print(\"Spam precision & recall: %s\" %precision[1], recall[1])"
   ]
  },
  {
   "cell_type": "code",
   "execution_count": 24,
   "metadata": {
    "collapsed": true
   },
   "outputs": [],
   "source": [
    "# Bernouli NB Case\n",
    "##################\n"
   ]
  },
  {
   "cell_type": "code",
   "execution_count": 25,
   "metadata": {},
   "outputs": [
    {
     "name": "stdout",
     "output_type": "stream",
     "text": [
      "Bernouli NB with 10 features:\n",
      "Acc: 0.948453608247\n",
      "Spam precision & recall: 0.869565217391 0.816326530612\n"
     ]
    }
   ],
   "source": [
    "# 10 features\n",
    "berNB_10 = sklearn.naive_bayes.BernoulliNB()\n",
    "berNB_10.fit(new_x_train_10, ls_train.target)\n",
    "\n",
    "y_pred_berNB_10 = berNB_10.predict(new_x_test_10)\n",
    "\n",
    "acc_berNB_10 = berNB_10.score(new_x_test_10,ls_test.target)\n",
    "\n",
    "print(\"Bernouli NB with 10 features:\")\n",
    "print(\"Acc: %s\" %acc_berNB_10)\n",
    "\n",
    "precision,recall,f1,_ = precision_recall_fscore_support(ls_test.target, y_pred_berNB_10)\n",
    "print(\"Spam precision & recall: %s\" %precision[1], recall[1])"
   ]
  },
  {
   "cell_type": "code",
   "execution_count": 26,
   "metadata": {},
   "outputs": [
    {
     "name": "stdout",
     "output_type": "stream",
     "text": [
      "Bernouli NB with 100 features:\n",
      "Acc: 0.945017182131\n",
      "Spam precision & recall: 1.0 0.673469387755\n"
     ]
    }
   ],
   "source": [
    "# 100 features\n",
    "berNB_100 = sklearn.naive_bayes.BernoulliNB()\n",
    "berNB_100.fit(new_x_train_100, ls_train.target)\n",
    "\n",
    "y_pred_berNB_100 = berNB_100.predict(new_x_test_100)\n",
    "\n",
    "acc_berNB_100 = berNB_100.score(new_x_test_100,ls_test.target)\n",
    "\n",
    "print(\"Bernouli NB with 100 features:\")\n",
    "print(\"Acc: %s\" %acc_berNB_100)\n",
    "\n",
    "precision,recall,f1,_ = precision_recall_fscore_support(ls_test.target, y_pred_berNB_100)\n",
    "print(\"Spam precision & recall: %s\" %precision[1], recall[1])"
   ]
  },
  {
   "cell_type": "code",
   "execution_count": 27,
   "metadata": {},
   "outputs": [
    {
     "name": "stdout",
     "output_type": "stream",
     "text": [
      "Bernouli NB with 1000 features:\n",
      "Acc: 0.93470790378\n",
      "Spam precision & recall: 1.0 0.612244897959\n"
     ]
    }
   ],
   "source": [
    "# 1000 features\n",
    "berNB_1000 = sklearn.naive_bayes.BernoulliNB()\n",
    "berNB_1000.fit(new_x_train_1000, ls_train.target)\n",
    "\n",
    "y_pred_berNB_1000 = berNB_1000.predict(new_x_test_1000)\n",
    "\n",
    "acc_berNB_1000 = berNB_1000.score(new_x_test_1000,ls_test.target)\n",
    "\n",
    "print(\"Bernouli NB with 1000 features:\")\n",
    "print(\"Acc: %s\" %acc_berNB_1000)\n",
    "\n",
    "precision,recall,f1,_ = precision_recall_fscore_support(ls_test.target, y_pred_berNB_1000)\n",
    "print(\"Spam precision & recall: %s\" %precision[1], recall[1])"
   ]
  },
  {
   "cell_type": "code",
   "execution_count": null,
   "metadata": {
    "collapsed": true
   },
   "outputs": [],
   "source": []
  },
  {
   "cell_type": "code",
   "execution_count": 33,
   "metadata": {
    "collapsed": true
   },
   "outputs": [],
   "source": [
    "# cross validation\n",
    "\n",
    "x_train_svm, x_test_svm, y_train_svm, y_test_svm = train_test_split(\n",
    "    new_x_train_1000, ls_train.target, test_size=0.4, random_state=0)"
   ]
  },
  {
   "cell_type": "code",
   "execution_count": 34,
   "metadata": {},
   "outputs": [
    {
     "name": "stdout",
     "output_type": "stream",
     "text": [
      "Acc: 0.928915\n",
      "Spam precision & recall: 1.0 0.581920903955\n"
     ]
    }
   ],
   "source": [
    "# SVM\n",
    "from sklearn.svm import SVC\n",
    "\n",
    "clf = sklearn.svm.SVC()\n",
    "clf.fit(x_train_svm, y_train_svm)\n",
    "\n",
    "y_pred_svm_1000 = clf.predict(x_test_svm)\n",
    "\n",
    "svm_acc = np.mean(y_pred_svm_1000 == y_test_svm)\n",
    "print('Acc: {0:f}'.format(svm_acc))\n",
    "\n",
    "precision,recall,f1,_ = precision_recall_fscore_support(y_test_svm, y_pred_svm_1000)\n",
    "print(\"Spam precision & recall: %s\" %precision[1], recall[1])"
   ]
  },
  {
   "cell_type": "code",
   "execution_count": 36,
   "metadata": {},
   "outputs": [
    {
     "data": {
      "text/plain": [
       "['multinomial_NB_1000.pkl']"
      ]
     },
     "execution_count": 36,
     "metadata": {},
     "output_type": "execute_result"
    }
   ],
   "source": [
    "import pickle\n",
    "with open(\"top_1000.txt\", \"wb\") as fp:   #Pickling\n",
    "    pickle.dump(feature_names_arg_2_1000, fp)\n",
    "    \n",
    "from sklearn.externals import joblib\n",
    "joblib.dump(clf3, 'multinomial_NB_1000.pkl') "
   ]
  },
  {
   "cell_type": "code",
   "execution_count": 37,
   "metadata": {},
   "outputs": [
    {
     "name": "stdout",
     "output_type": "stream",
     "text": [
      "language\n",
      "remove\n",
      "free\n",
      "linguistic\n",
      "university\n",
      "money\n",
      "click\n",
      "market\n",
      "our\n",
      "business\n"
     ]
    }
   ],
   "source": [
    "# print out the top 10, 100, 1000 features selected\n",
    "\n",
    "# top 10\n",
    "for item in feature_names_arg_2:\n",
    "    print((count_vect.get_feature_names())[int(item)])\n",
    "\n",
    "# # top 100\n",
    "# for item in feature_names_arg_2_100:\n",
    "#     print((count_vect.get_feature_names())[int(item)])\n",
    "\n",
    "# top 1000\n",
    "# for item in feature_names_arg_2_1000:\n",
    "#     print((count_vect.get_feature_names())[int(item)])\n",
    "\n"
   ]
  }
 ],
 "metadata": {
  "kernelspec": {
   "display_name": "Python 3",
   "language": "python",
   "name": "python3"
  },
  "language_info": {
   "codemirror_mode": {
    "name": "ipython",
    "version": 3
   },
   "file_extension": ".py",
   "mimetype": "text/x-python",
   "name": "python",
   "nbconvert_exporter": "python",
   "pygments_lexer": "ipython3",
   "version": "3.6.1"
  }
 },
 "nbformat": 4,
 "nbformat_minor": 2
}
